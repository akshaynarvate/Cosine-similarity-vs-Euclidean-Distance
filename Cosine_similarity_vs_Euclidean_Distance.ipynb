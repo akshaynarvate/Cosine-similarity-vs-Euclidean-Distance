{
  "nbformat": 4,
  "nbformat_minor": 0,
  "metadata": {
    "colab": {
      "name": "Cosine similarity vs Euclidean Distance.ipynb",
      "provenance": []
    },
    "kernelspec": {
      "name": "python3",
      "display_name": "Python 3"
    },
    "language_info": {
      "name": "python"
    }
  },
  "cells": [
    {
      "cell_type": "markdown",
      "source": [
        "## Cosine Simiarity"
      ],
      "metadata": {
        "id": "Xs7W4FvDPjAl"
      }
    },
    {
      "cell_type": "code",
      "execution_count": 1,
      "metadata": {
        "id": "G8vedEdaPXaQ"
      },
      "outputs": [],
      "source": [
        "import numpy as np\n",
        "\n",
        "X = np.array([[6.6, 6.2, 1],\n",
        "              [9.7, 9.9, 2],\n",
        "              [8.0, 8.3, 2],\n",
        "              [6.3, 5.4, 1],\n",
        "              [1.3, 2.7, 0],\n",
        "              [2.3, 3.1, 0],\n",
        "              [6.6, 6.0, 1],\n",
        "              [6.5, 6.4, 1],\n",
        "              [6.3, 5.8, 1],\n",
        "              [9.5, 9.9, 2],\n",
        "              [8.9, 8.9, 2],\n",
        "              [8.7, 9.5, 2],\n",
        "              [2.5, 3.8, 0],\n",
        "              [2.0, 3.1, 0],\n",
        "              [1.3, 1.3, 0]])"
      ]
    },
    {
      "cell_type": "markdown",
      "source": [
        "# Preparing the Data"
      ],
      "metadata": {
        "id": "cTbe0_BTPo_P"
      }
    },
    {
      "cell_type": "code",
      "source": [
        "import pandas as pd\n",
        "\n",
        "df = pd.DataFrame(X, columns=['weight', 'length', 'label'])\n",
        "df"
      ],
      "metadata": {
        "colab": {
          "base_uri": "https://localhost:8080/",
          "height": 519
        },
        "id": "dFWT2ixtPnvA",
        "outputId": "f9fc753c-c934-4170-c01f-97c3b21d6d06"
      },
      "execution_count": 2,
      "outputs": [
        {
          "output_type": "execute_result",
          "data": {
            "text/plain": [
              "    weight  length  label\n",
              "0      6.6     6.2    1.0\n",
              "1      9.7     9.9    2.0\n",
              "2      8.0     8.3    2.0\n",
              "3      6.3     5.4    1.0\n",
              "4      1.3     2.7    0.0\n",
              "5      2.3     3.1    0.0\n",
              "6      6.6     6.0    1.0\n",
              "7      6.5     6.4    1.0\n",
              "8      6.3     5.8    1.0\n",
              "9      9.5     9.9    2.0\n",
              "10     8.9     8.9    2.0\n",
              "11     8.7     9.5    2.0\n",
              "12     2.5     3.8    0.0\n",
              "13     2.0     3.1    0.0\n",
              "14     1.3     1.3    0.0"
            ],
            "text/html": [
              "\n",
              "  <div id=\"df-8506fab0-ebe3-4351-97ca-3839666fdb7d\">\n",
              "    <div class=\"colab-df-container\">\n",
              "      <div>\n",
              "<style scoped>\n",
              "    .dataframe tbody tr th:only-of-type {\n",
              "        vertical-align: middle;\n",
              "    }\n",
              "\n",
              "    .dataframe tbody tr th {\n",
              "        vertical-align: top;\n",
              "    }\n",
              "\n",
              "    .dataframe thead th {\n",
              "        text-align: right;\n",
              "    }\n",
              "</style>\n",
              "<table border=\"1\" class=\"dataframe\">\n",
              "  <thead>\n",
              "    <tr style=\"text-align: right;\">\n",
              "      <th></th>\n",
              "      <th>weight</th>\n",
              "      <th>length</th>\n",
              "      <th>label</th>\n",
              "    </tr>\n",
              "  </thead>\n",
              "  <tbody>\n",
              "    <tr>\n",
              "      <th>0</th>\n",
              "      <td>6.6</td>\n",
              "      <td>6.2</td>\n",
              "      <td>1.0</td>\n",
              "    </tr>\n",
              "    <tr>\n",
              "      <th>1</th>\n",
              "      <td>9.7</td>\n",
              "      <td>9.9</td>\n",
              "      <td>2.0</td>\n",
              "    </tr>\n",
              "    <tr>\n",
              "      <th>2</th>\n",
              "      <td>8.0</td>\n",
              "      <td>8.3</td>\n",
              "      <td>2.0</td>\n",
              "    </tr>\n",
              "    <tr>\n",
              "      <th>3</th>\n",
              "      <td>6.3</td>\n",
              "      <td>5.4</td>\n",
              "      <td>1.0</td>\n",
              "    </tr>\n",
              "    <tr>\n",
              "      <th>4</th>\n",
              "      <td>1.3</td>\n",
              "      <td>2.7</td>\n",
              "      <td>0.0</td>\n",
              "    </tr>\n",
              "    <tr>\n",
              "      <th>5</th>\n",
              "      <td>2.3</td>\n",
              "      <td>3.1</td>\n",
              "      <td>0.0</td>\n",
              "    </tr>\n",
              "    <tr>\n",
              "      <th>6</th>\n",
              "      <td>6.6</td>\n",
              "      <td>6.0</td>\n",
              "      <td>1.0</td>\n",
              "    </tr>\n",
              "    <tr>\n",
              "      <th>7</th>\n",
              "      <td>6.5</td>\n",
              "      <td>6.4</td>\n",
              "      <td>1.0</td>\n",
              "    </tr>\n",
              "    <tr>\n",
              "      <th>8</th>\n",
              "      <td>6.3</td>\n",
              "      <td>5.8</td>\n",
              "      <td>1.0</td>\n",
              "    </tr>\n",
              "    <tr>\n",
              "      <th>9</th>\n",
              "      <td>9.5</td>\n",
              "      <td>9.9</td>\n",
              "      <td>2.0</td>\n",
              "    </tr>\n",
              "    <tr>\n",
              "      <th>10</th>\n",
              "      <td>8.9</td>\n",
              "      <td>8.9</td>\n",
              "      <td>2.0</td>\n",
              "    </tr>\n",
              "    <tr>\n",
              "      <th>11</th>\n",
              "      <td>8.7</td>\n",
              "      <td>9.5</td>\n",
              "      <td>2.0</td>\n",
              "    </tr>\n",
              "    <tr>\n",
              "      <th>12</th>\n",
              "      <td>2.5</td>\n",
              "      <td>3.8</td>\n",
              "      <td>0.0</td>\n",
              "    </tr>\n",
              "    <tr>\n",
              "      <th>13</th>\n",
              "      <td>2.0</td>\n",
              "      <td>3.1</td>\n",
              "      <td>0.0</td>\n",
              "    </tr>\n",
              "    <tr>\n",
              "      <th>14</th>\n",
              "      <td>1.3</td>\n",
              "      <td>1.3</td>\n",
              "      <td>0.0</td>\n",
              "    </tr>\n",
              "  </tbody>\n",
              "</table>\n",
              "</div>\n",
              "      <button class=\"colab-df-convert\" onclick=\"convertToInteractive('df-8506fab0-ebe3-4351-97ca-3839666fdb7d')\"\n",
              "              title=\"Convert this dataframe to an interactive table.\"\n",
              "              style=\"display:none;\">\n",
              "        \n",
              "  <svg xmlns=\"http://www.w3.org/2000/svg\" height=\"24px\"viewBox=\"0 0 24 24\"\n",
              "       width=\"24px\">\n",
              "    <path d=\"M0 0h24v24H0V0z\" fill=\"none\"/>\n",
              "    <path d=\"M18.56 5.44l.94 2.06.94-2.06 2.06-.94-2.06-.94-.94-2.06-.94 2.06-2.06.94zm-11 1L8.5 8.5l.94-2.06 2.06-.94-2.06-.94L8.5 2.5l-.94 2.06-2.06.94zm10 10l.94 2.06.94-2.06 2.06-.94-2.06-.94-.94-2.06-.94 2.06-2.06.94z\"/><path d=\"M17.41 7.96l-1.37-1.37c-.4-.4-.92-.59-1.43-.59-.52 0-1.04.2-1.43.59L10.3 9.45l-7.72 7.72c-.78.78-.78 2.05 0 2.83L4 21.41c.39.39.9.59 1.41.59.51 0 1.02-.2 1.41-.59l7.78-7.78 2.81-2.81c.8-.78.8-2.07 0-2.86zM5.41 20L4 18.59l7.72-7.72 1.47 1.35L5.41 20z\"/>\n",
              "  </svg>\n",
              "      </button>\n",
              "      \n",
              "  <style>\n",
              "    .colab-df-container {\n",
              "      display:flex;\n",
              "      flex-wrap:wrap;\n",
              "      gap: 12px;\n",
              "    }\n",
              "\n",
              "    .colab-df-convert {\n",
              "      background-color: #E8F0FE;\n",
              "      border: none;\n",
              "      border-radius: 50%;\n",
              "      cursor: pointer;\n",
              "      display: none;\n",
              "      fill: #1967D2;\n",
              "      height: 32px;\n",
              "      padding: 0 0 0 0;\n",
              "      width: 32px;\n",
              "    }\n",
              "\n",
              "    .colab-df-convert:hover {\n",
              "      background-color: #E2EBFA;\n",
              "      box-shadow: 0px 1px 2px rgba(60, 64, 67, 0.3), 0px 1px 3px 1px rgba(60, 64, 67, 0.15);\n",
              "      fill: #174EA6;\n",
              "    }\n",
              "\n",
              "    [theme=dark] .colab-df-convert {\n",
              "      background-color: #3B4455;\n",
              "      fill: #D2E3FC;\n",
              "    }\n",
              "\n",
              "    [theme=dark] .colab-df-convert:hover {\n",
              "      background-color: #434B5C;\n",
              "      box-shadow: 0px 1px 3px 1px rgba(0, 0, 0, 0.15);\n",
              "      filter: drop-shadow(0px 1px 2px rgba(0, 0, 0, 0.3));\n",
              "      fill: #FFFFFF;\n",
              "    }\n",
              "  </style>\n",
              "\n",
              "      <script>\n",
              "        const buttonEl =\n",
              "          document.querySelector('#df-8506fab0-ebe3-4351-97ca-3839666fdb7d button.colab-df-convert');\n",
              "        buttonEl.style.display =\n",
              "          google.colab.kernel.accessAllowed ? 'block' : 'none';\n",
              "\n",
              "        async function convertToInteractive(key) {\n",
              "          const element = document.querySelector('#df-8506fab0-ebe3-4351-97ca-3839666fdb7d');\n",
              "          const dataTable =\n",
              "            await google.colab.kernel.invokeFunction('convertToInteractive',\n",
              "                                                     [key], {});\n",
              "          if (!dataTable) return;\n",
              "\n",
              "          const docLinkHtml = 'Like what you see? Visit the ' +\n",
              "            '<a target=\"_blank\" href=https://colab.research.google.com/notebooks/data_table.ipynb>data table notebook</a>'\n",
              "            + ' to learn more about interactive tables.';\n",
              "          element.innerHTML = '';\n",
              "          dataTable['output_type'] = 'display_data';\n",
              "          await google.colab.output.renderOutput(dataTable, element);\n",
              "          const docLink = document.createElement('div');\n",
              "          docLink.innerHTML = docLinkHtml;\n",
              "          element.appendChild(docLink);\n",
              "        }\n",
              "      </script>\n",
              "    </div>\n",
              "  </div>\n",
              "  "
            ]
          },
          "metadata": {},
          "execution_count": 2
        }
      ]
    },
    {
      "cell_type": "code",
      "source": [
        "%matplotlib inline\n",
        "\n",
        "ax = df[df[\"label\"] == 0].plot.scatter(x=\"weight\", y=\"length\", c=\"blue\", label=\"young\")\n",
        "ax = df[df[\"label\"] == 1].plot.scatter(x=\"weight\", y=\"length\", c=\"orange\", label=\"mid\", ax=ax)\n",
        "ax = df[df[\"label\"] == 2].plot.scatter(x=\"weight\", y=\"length\", c=\"red\", label=\"adult\", ax=ax)\n",
        "ax                                       "
      ],
      "metadata": {
        "colab": {
          "base_uri": "https://localhost:8080/",
          "height": 297
        },
        "id": "QCaISrWiP2EF",
        "outputId": "a4a2d830-4b12-4e1a-addf-3d8e270d8f32"
      },
      "execution_count": 4,
      "outputs": [
        {
          "output_type": "execute_result",
          "data": {
            "text/plain": [
              "<matplotlib.axes._subplots.AxesSubplot at 0x7f62bd6f2dd0>"
            ]
          },
          "metadata": {},
          "execution_count": 4
        },
        {
          "output_type": "display_data",
          "data": {
            "text/plain": [
              "<Figure size 432x288 with 1 Axes>"
            ],
            "image/png": "[encoded data removed]"
          },
          "metadata": {
            "needs_background": "light"
          }
        }
      ]
    },
    {
      "cell_type": "markdown",
      "source": [
        "## Picking our Metric"
      ],
      "metadata": {
        "id": "ZOEJhGBNS6qh"
      }
    },
    {
      "cell_type": "code",
      "source": [
        "df2 = pd.DataFrame([df.iloc[0], df.iloc[1], df.iloc[4]], columns=[\"weight\", \"length\", \"label\"])\n",
        "df3 = pd.DataFrame([df.iloc[14]], columns=[\"weight\", \"length\", \"label\"])"
      ],
      "metadata": {
        "id": "iVI4-ClLR2u_"
      },
      "execution_count": 5,
      "outputs": []
    },
    {
      "cell_type": "code",
      "source": [
        "ax = df2[df2['label'] == 0].plot.scatter(x='weight', y='length', c='blue', label='young')\n",
        "ax = df2[df2['label'] == 1].plot.scatter(x='weight', y='length', c='orange', label='mid', ax=ax)\n",
        "ax = df2[df2['label'] == 2].plot.scatter(x='weight', y='length', c='red', label='adult', ax=ax)\n",
        "ax = df3.plot.scatter(x=\"weight\", y=\"length\", c=\"gray\", label=\"?\", ax=ax)\n",
        "ax"
      ],
      "metadata": {
        "colab": {
          "base_uri": "https://localhost:8080/",
          "height": 297
        },
        "id": "1Tzf60DjTjS-",
        "outputId": "f6fcccc6-d608-40a7-9066-afdbd0e92d35"
      },
      "execution_count": 6,
      "outputs": [
        {
          "output_type": "execute_result",
          "data": {
            "text/plain": [
              "<matplotlib.axes._subplots.AxesSubplot at 0x7f62bcac1490>"
            ]
          },
          "metadata": {},
          "execution_count": 6
        },
        {
          "output_type": "display_data",
          "data": {
            "text/plain": [
              "<Figure size 432x288 with 1 Axes>"
            ],
            "image/png": "[encoded data removed]"
          },
          "metadata": {
            "needs_background": "light"
          }
        }
      ]
    },
    {
      "cell_type": "markdown",
      "source": [
        "## Euclidean"
      ],
      "metadata": {
        "id": "IyB-rtncUFy2"
      }
    },
    {
      "cell_type": "code",
      "source": [
        "def euclidean_distance(x, y):\n",
        "    return np.sqrt(np.sum(x-y) ** 2)"
      ],
      "metadata": {
        "id": "VYoE9JWPT0DB"
      },
      "execution_count": 7,
      "outputs": []
    },
    {
      "cell_type": "code",
      "source": [
        "x0 = X[0][:-1]\n",
        "x1 = X[1][:-1]\n",
        "x4 = X[4][:-1]\n",
        "x14 = X[14][:-1]\n",
        "print(\" x0:\", x0, \"\\n x1:\", x1, \"\\n x4:\", x4, \"\\nx14:\", x14)"
      ],
      "metadata": {
        "colab": {
          "base_uri": "https://localhost:8080/"
        },
        "id": "SPWJLRs1UPRE",
        "outputId": "ed48bcd0-f4d3-4de2-addc-363813a22e5f"
      },
      "execution_count": 8,
      "outputs": [
        {
          "output_type": "stream",
          "name": "stdout",
          "text": [
            " x0: [6.6 6.2] \n",
            " x1: [9.7 9.9] \n",
            " x4: [1.3 2.7] \n",
            "x14: [1.3 1.3]\n"
          ]
        }
      ]
    },
    {
      "cell_type": "code",
      "source": [
        "print(\" x14 and x0:\", euclidean_distance(x14, x0), \"\\n\",\n",
        "      \"x14 and x1:\", euclidean_distance(x14, x1), \"\\n\",\n",
        "      \"x14 and x4:\", euclidean_distance(x14, x4))"
      ],
      "metadata": {
        "colab": {
          "base_uri": "https://localhost:8080/"
        },
        "id": "bKCSmzqWUatb",
        "outputId": "f13116db-4837-4df4-8f77-adfdd333a38f"
      },
      "execution_count": 9,
      "outputs": [
        {
          "output_type": "stream",
          "name": "stdout",
          "text": [
            " x14 and x0: 10.2 \n",
            " x14 and x1: 17.0 \n",
            " x14 and x4: 1.4000000000000001\n"
          ]
        }
      ]
    },
    {
      "cell_type": "markdown",
      "source": [
        "## Cosine"
      ],
      "metadata": {
        "id": "jE4afgMXU6zG"
      }
    },
    {
      "cell_type": "code",
      "source": [
        "# Where x and y are two vectors.\n",
        "\n",
        "def cosine_similarity(x, y):\n",
        "    return np.dot(x, y) / (np.sqrt(np.dot(x, x)) * np.sqrt(np.dot(y, y)))"
      ],
      "metadata": {
        "id": "C4KYhoCGUlQh"
      },
      "execution_count": 10,
      "outputs": []
    },
    {
      "cell_type": "code",
      "source": [
        "# Let's see these calculations for all our vectors:\n",
        "\n",
        "print(\" x14 and x0:\", cosine_similarity(x14, x0), \"\\n\",\n",
        "      \"x14 and x1:\", cosine_similarity(x14, x1), \"\\n\",\n",
        "      \"x14 and x4:\", cosine_similarity(x14, x4))"
      ],
      "metadata": {
        "colab": {
          "base_uri": "https://localhost:8080/"
        },
        "id": "tzbWoZv6VPqB",
        "outputId": "bcf2b051-b5a5-4704-a8a1-a732e9e3ba6c"
      },
      "execution_count": 11,
      "outputs": [
        {
          "output_type": "stream",
          "name": "stdout",
          "text": [
            " x14 and x0: 0.9995120760870786 \n",
            " x14 and x1: 0.9999479424242859 \n",
            " x14 and x4: 0.9438583563660174\n"
          ]
        }
      ]
    },
    {
      "cell_type": "markdown",
      "source": [
        "## Cosine in Action"
      ],
      "metadata": {
        "id": "bfW218odXC7A"
      }
    },
    {
      "cell_type": "code",
      "source": [
        "!pip install wikipedia"
      ],
      "metadata": {
        "colab": {
          "base_uri": "https://localhost:8080/"
        },
        "id": "btM1YLbFo6EJ",
        "outputId": "d17e04ec-31ad-49a0-ece6-5b73a0167171"
      },
      "execution_count": 13,
      "outputs": [
        {
          "output_type": "stream",
          "name": "stdout",
          "text": [
            "Collecting wikipedia\n",
            "  Downloading wikipedia-1.4.0.tar.gz (27 kB)\n",
            "Requirement already satisfied: beautifulsoup4 in /usr/local/lib/python3.7/dist-packages (from wikipedia) (4.6.3)\n",
            "Requirement already satisfied: requests<3.0.0,>=2.0.0 in /usr/local/lib/python3.7/dist-packages (from wikipedia) (2.23.0)\n",
            "Requirement already satisfied: certifi>=2017.4.17 in /usr/local/lib/python3.7/dist-packages (from requests<3.0.0,>=2.0.0->wikipedia) (2021.10.8)\n",
            "Requirement already satisfied: urllib3!=1.25.0,!=1.25.1,<1.26,>=1.21.1 in /usr/local/lib/python3.7/dist-packages (from requests<3.0.0,>=2.0.0->wikipedia) (1.24.3)\n",
            "Requirement already satisfied: idna<3,>=2.5 in /usr/local/lib/python3.7/dist-packages (from requests<3.0.0,>=2.0.0->wikipedia) (2.10)\n",
            "Requirement already satisfied: chardet<4,>=3.0.2 in /usr/local/lib/python3.7/dist-packages (from requests<3.0.0,>=2.0.0->wikipedia) (3.0.4)\n",
            "Building wheels for collected packages: wikipedia\n",
            "  Building wheel for wikipedia (setup.py) ... \u001b[?25l\u001b[?25hdone\n",
            "  Created wheel for wikipedia: filename=wikipedia-1.4.0-py3-none-any.whl size=11695 sha256=5926a0c7a9bcf772d076716ad7d034ae2d801df156194ee5f9da63b19d32f7e1\n",
            "  Stored in directory: /root/.cache/pip/wheels/15/93/6d/5b2c68b8a64c7a7a04947b4ed6d89fb557dcc6bc27d1d7f3ba\n",
            "Successfully built wikipedia\n",
            "Installing collected packages: wikipedia\n",
            "Successfully installed wikipedia-1.4.0\n"
          ]
        }
      ]
    },
    {
      "cell_type": "code",
      "source": [
        "import wikipedia\n",
        "\n",
        "q1 = wikipedia.page(\"Deep Learning\")\n",
        "q2 = wikipedia.page('Artifical Intelligence')\n",
        "q3 = wikipedia.page('Soccer')\n",
        "q4 = wikipedia.page(\"Cricket\")"
      ],
      "metadata": {
        "id": "rijrJ1Q3pUyY"
      },
      "execution_count": 23,
      "outputs": []
    },
    {
      "cell_type": "code",
      "source": [
        "from sklearn.feature_extraction.text import CountVectorizer\n",
        "\n",
        "cv = CountVectorizer()\n",
        "X = np.array(cv.fit_transform([q1.content, q2.content, q3.content, q4.content]).todense())"
      ],
      "metadata": {
        "id": "t3-P6jQ6qWlj"
      },
      "execution_count": 29,
      "outputs": []
    },
    {
      "cell_type": "code",
      "source": [
        "print(X)"
      ],
      "metadata": {
        "colab": {
          "base_uri": "https://localhost:8080/"
        },
        "id": "yEpRuPJArPP6",
        "outputId": "ff318b2e-4252-42eb-e90f-c15bdc8eedfd"
      },
      "execution_count": 30,
      "outputs": [
        {
          "output_type": "stream",
          "name": "stdout",
          "text": [
            "[[4 0 0 ... 0 0 0]\n",
            " [1 1 2 ... 0 2 0]\n",
            " [2 0 0 ... 1 0 1]\n",
            " [0 0 0 ... 0 0 0]]\n"
          ]
        }
      ]
    },
    {
      "cell_type": "code",
      "source": [
        "print(\"DL \\t\", len(q1.content.split()), \"\\n\"\n",
        "\"AI \\t\", len(q2.content.split()), \"\\n\"\n",
        "\"Soccer \\t\", len(q3.content.split()), \"\\n\"\n",
        "\"Cricket \\t\", len(q4.content.split()))\n",
        "\n",
        "# AI is a much larger article than Machine Learning (ML)\n",
        "# This would mean that if we do not normalize our vectors, \n",
        "# AI will be much further away from ML just because it has many more words"
      ],
      "metadata": {
        "colab": {
          "base_uri": "https://localhost:8080/"
        },
        "id": "MJf-DZQ4rXNY",
        "outputId": "c48d94ab-b426-4220-aa69-1be88f508c61"
      },
      "execution_count": 32,
      "outputs": [
        {
          "output_type": "stream",
          "name": "stdout",
          "text": [
            "DL \t 6896 \n",
            "AI \t 15138 \n",
            "Soccer \t 6634 \n",
            "Cricket \t 8906\n"
          ]
        }
      ]
    },
    {
      "cell_type": "code",
      "source": [
        "print(\"DL - AI \\t\", euclidean_distance(X[0], X[1]), \"\\n\"\n",
        "      \"DL - soccer \\t\", euclidean_distance(X[0], X[2]), \"\\n\"\n",
        "      \"DL - tennis \\t\", euclidean_distance(X[0], X[3]))\n",
        "\n",
        "# Here we can see pretty clearly that our prior assumptions have been confirmed.\n",
        "# DL seems to be closest to AI,"
      ],
      "metadata": {
        "colab": {
          "base_uri": "https://localhost:8080/"
        },
        "id": "KRSUdcLOrzir",
        "outputId": "4cd78d05-592b-45e3-e4f4-1c5182301b28"
      },
      "execution_count": 33,
      "outputs": [
        {
          "output_type": "stream",
          "name": "stdout",
          "text": [
            "DL - AI \t 8221.0 \n",
            "DL - soccer \t 318.0 \n",
            "DL - tennis \t 1818.0\n"
          ]
        }
      ]
    },
    {
      "cell_type": "code",
      "source": [
        "print(\"DL - AI \\t\", cosine_similarity(X[0], X[1]), \"\\n\"\n",
        "      \"DL - soccer \\t\", cosine_similarity(X[0], X[2]), \"\\n\"\n",
        "      \"DL - tennis \\t\", cosine_similarity(X[0], X[3]))\n",
        "\n",
        "# DL is closer to AI! Granted"
      ],
      "metadata": {
        "colab": {
          "base_uri": "https://localhost:8080/"
        },
        "id": "lMq3Ajb_solQ",
        "outputId": "ac3666e9-f588-4f11-bbfc-9d66466b017b"
      },
      "execution_count": 34,
      "outputs": [
        {
          "output_type": "stream",
          "name": "stdout",
          "text": [
            "DL - AI \t 0.8726366055914032 \n",
            "DL - soccer \t 0.807381248742486 \n",
            "DL - tennis \t 0.8127093914708072\n"
          ]
        }
      ]
    },
    {
      "cell_type": "markdown",
      "source": [
        "## Categorize a Tweet"
      ],
      "metadata": {
        "id": "82C3wtoet5hD"
      }
    },
    {
      "cell_type": "code",
      "source": [
        "# Now, just for fun, let’s see how this plays out for the following tweet by OpenAI:\n",
        "\n",
        "ml_tweet = \"New research release: overcoming many of Reinforcement Learning's limitations with Evolution Strategies.\"\n",
        "x = np.array(cv.transform([ml_tweet]).todense())[0]\n",
        "\n",
        "# Again we represent this tweet as a word vector,\n",
        "#  we try to measure the distance between the tweet and our four wikipedia documents:"
      ],
      "metadata": {
        "id": "dC5G-n3ttW_p"
      },
      "execution_count": 35,
      "outputs": []
    },
    {
      "cell_type": "code",
      "source": [
        "print(\"tweet - DL \\t\", euclidean_distance(x[0], X[0]), \"\\n\"\n",
        "      \"tweet - AI \\t\", euclidean_distance(x[0], X[1]), \"\\n\"\n",
        "      \"tweet - soccer \\t\", euclidean_distance(x[0], X[2]), \"\\n\"\n",
        "      \"tweet - Cricket \\t\", euclidean_distance(x[0], X[3]))"
      ],
      "metadata": {
        "colab": {
          "base_uri": "https://localhost:8080/"
        },
        "id": "oHhXFL4puD1_",
        "outputId": "344e5128-1753-41dd-fc09-3f8573c98aa9"
      },
      "execution_count": 36,
      "outputs": [
        {
          "output_type": "stream",
          "name": "stdout",
          "text": [
            "tweet - DL \t 6819.0 \n",
            "tweet - AI \t 15040.0 \n",
            "tweet - soccer \t 6501.0 \n",
            "tweet - Cricket \t 8637.0\n"
          ]
        }
      ]
    },
    {
      "cell_type": "code",
      "source": [
        "print(\"tweet - DL \\t\", cosine_similarity(x, X[0]), \"\\n\"\n",
        "      \"tweet - AI \\t\", cosine_similarity(x, X[1]), \"\\n\"\n",
        "      \"tweet - soccer \\t\", cosine_similarity(x, X[2]), \"\\n\"\n",
        "      \"tweet - Cricket \\t\", cosine_similarity(x, X[3]))"
      ],
      "metadata": {
        "colab": {
          "base_uri": "https://localhost:8080/"
        },
        "id": "velmbMfSuU0-",
        "outputId": "de39160f-ab9f-4197-e711-315dd3080bad"
      },
      "execution_count": 37,
      "outputs": [
        {
          "output_type": "stream",
          "name": "stdout",
          "text": [
            "tweet - DL \t 0.22499675853445308 \n",
            "tweet - AI \t 0.16829731907771311 \n",
            "tweet - soccer \t 0.11777408767032184 \n",
            "tweet - Cricket \t 0.10916451351506397\n"
          ]
        }
      ]
    },
    {
      "cell_type": "code",
      "source": [
        "so_tweet = \"#LegendsDownUnder The Reds are out for the warm up at the @nibStadium. Not long now until kick-off in Perth.\"\n",
        "x2 = np.array(cv.transform([so_tweet]).todense())[0]"
      ],
      "metadata": {
        "id": "lB74le9GufyD"
      },
      "execution_count": 38,
      "outputs": []
    },
    {
      "cell_type": "code",
      "source": [
        "print(\"tweet - DL \\t\", euclidean_distance(x2, X[0]), \"\\n\"\n",
        "      \"tweet - AI \\t\", euclidean_distance(x2, X[1]), \"\\n\"\n",
        "      \"tweet - soccer \\t\", euclidean_distance(x2, X[2]), \"\\n\"\n",
        "      \"tweet - Cricket \\t\", euclidean_distance(x2, X[3]))"
      ],
      "metadata": {
        "colab": {
          "base_uri": "https://localhost:8080/"
        },
        "id": "daa1eCCEuldV",
        "outputId": "edc0c92c-c1c1-4d1d-d6b3-1294b6ad8b3c"
      },
      "execution_count": 40,
      "outputs": [
        {
          "output_type": "stream",
          "name": "stdout",
          "text": [
            "tweet - DL \t 6803.0 \n",
            "tweet - AI \t 15024.0 \n",
            "tweet - soccer \t 6485.0 \n",
            "tweet - Cricket \t 8621.0\n"
          ]
        }
      ]
    },
    {
      "cell_type": "code",
      "source": [
        "print(\"tweet - DL \\t\", cosine_similarity(x2, X[0]), \"\\n\"\n",
        "      \"tweet - AI \\t\", cosine_similarity(x2, X[1]), \"\\n\"\n",
        "      \"tweet - soccer \\t\", cosine_similarity(x2, X[2]), \"\\n\"\n",
        "      \"tweet - Cricket \\t\", cosine_similarity(x2, X[3]))\n"
      ],
      "metadata": {
        "colab": {
          "base_uri": "https://localhost:8080/"
        },
        "id": "UKWKAph4uq6h",
        "outputId": "ea517416-ce37-4fcd-a3f7-2c85cead30d5"
      },
      "execution_count": 41,
      "outputs": [
        {
          "output_type": "stream",
          "name": "stdout",
          "text": [
            "tweet - DL \t 0.4601108129929207 \n",
            "tweet - AI \t 0.4909725044659564 \n",
            "tweet - soccer \t 0.6179646084314173 \n",
            "tweet - Cricket \t 0.6108276287946603\n"
          ]
        }
      ]
    },
    {
      "cell_type": "code",
      "source": [
        ""
      ],
      "metadata": {
        "id": "h6H3-I3huzwu"
      },
      "execution_count": null,
      "outputs": []
    }
  ]
}